{
 "cells": [
  {
   "cell_type": "markdown",
   "metadata": {},
   "source": [
    "## Analyzing count of proplatelets, from well (C6) replicates across time-series, treated with 5uM 487760"
   ]
  },
  {
   "cell_type": "code",
   "execution_count": 1,
   "metadata": {},
   "outputs": [],
   "source": [
    "import os\n",
    "import sys\n",
    "import pandas as pd"
   ]
  },
  {
   "cell_type": "code",
   "execution_count": 2,
   "metadata": {},
   "outputs": [],
   "source": [
    "# raw data\n",
    "path = os.getcwd() + os.sep + \"results_Image.csv\" "
   ]
  },
  {
   "cell_type": "code",
   "execution_count": 3,
   "metadata": {},
   "outputs": [],
   "source": [
    "# read csv into dataframe\n",
    "df = pd.read_csv(path)"
   ]
  },
  {
   "cell_type": "code",
   "execution_count": 4,
   "metadata": {},
   "outputs": [],
   "source": [
    "# split image name (tail) from path, get timepoint from name, remove .tif, add to new lists\n",
    "image_names = []\n",
    "timepoints = []\n",
    "for name in df.URL_phase.to_list():\n",
    "    name = os.path.split(name)[1]\n",
    "    time = name.rsplit(\"-\")[-1]\n",
    "    time = time.replace('.tif','')\n",
    "    image_names.append(name)\n",
    "    timepoints.append(time)"
   ]
  },
  {
   "cell_type": "code",
   "execution_count": 5,
   "metadata": {},
   "outputs": [],
   "source": [
    "# append lists to df, with column title as image_names & timepoints\n",
    "df['image_names'] = image_names\n",
    "df['timepoints'] = timepoints"
   ]
  },
  {
   "cell_type": "code",
   "execution_count": 6,
   "metadata": {},
   "outputs": [],
   "source": [
    "# filter df on image_names for only well C6 data\n",
    "df = df[df['image_names'].str.contains('C6')]"
   ]
  },
  {
   "cell_type": "code",
   "execution_count": 7,
   "metadata": {
    "scrolled": true
   },
   "outputs": [],
   "source": [
    "# set df2 index to image_names, remove all cols. except pplt count\n",
    "df2 = df.set_index('image_names')\n",
    "df2 = df2[['Count_proplatelets','timepoints']]"
   ]
  },
  {
   "cell_type": "code",
   "execution_count": 8,
   "metadata": {},
   "outputs": [],
   "source": [
    "# individual replicate/timepoints for pplt count\n",
    "df2.to_csv(os.getcwd() + os.sep + \"PPLT_Count.csv\") "
   ]
  },
  {
   "cell_type": "code",
   "execution_count": 9,
   "metadata": {},
   "outputs": [],
   "source": [
    "# group df on timepoints and get mean + std\n",
    "mean = df.groupby(\"timepoints\").mean().Count_proplatelets.to_list()\n",
    "std = df.groupby(\"timepoints\").std().Count_proplatelets.to_list()"
   ]
  },
  {
   "cell_type": "code",
   "execution_count": 10,
   "metadata": {},
   "outputs": [],
   "source": [
    "# add mean & std lists to new df\n",
    "df3 = pd.DataFrame()\n",
    "df3['mean'] = mean\n",
    "df3['std'] = std"
   ]
  },
  {
   "cell_type": "code",
   "execution_count": 11,
   "metadata": {},
   "outputs": [],
   "source": [
    "df3.to_csv(os.getcwd() + os.sep + \"PPLT_Mean_Std.csv\") "
   ]
  }
 ],
 "metadata": {
  "kernelspec": {
   "display_name": "Python 3 (ipykernel)",
   "language": "python",
   "name": "python3"
  },
  "language_info": {
   "codemirror_mode": {
    "name": "ipython",
    "version": 3
   },
   "file_extension": ".py",
   "mimetype": "text/x-python",
   "name": "python",
   "nbconvert_exporter": "python",
   "pygments_lexer": "ipython3",
   "version": "3.9.5"
  }
 },
 "nbformat": 4,
 "nbformat_minor": 4
}
