{
 "cells": [
  {
   "cell_type": "markdown",
   "metadata": {},
   "source": [
    "## MK_Skel Dataset Analysis\n",
    "- Wells: A6 - DMSO, C6 - Taxol\n",
    "- Scanned over 22 hours * 3 stacks = 66 images total\n",
    "- Analyzing hour 4"
   ]
  },
  {
   "cell_type": "code",
   "execution_count": 1,
   "metadata": {},
   "outputs": [],
   "source": [
    "import os\n",
    "import sys\n",
    "import pandas as pd\n",
    "from matplotlib import pyplot as plt"
   ]
  },
  {
   "cell_type": "code",
   "execution_count": 2,
   "metadata": {},
   "outputs": [
    {
     "name": "stdout",
     "output_type": "stream",
     "text": [
      "Found C:\\Users\\Prakrith\\Documents\\Github\\jupyter\\italiano-lab\\mk-skel\\skel-analysis.ipynb\n",
      "Found C:\\Users\\Prakrith\\Documents\\Github\\jupyter\\italiano-lab\\mk-skel\\.ipynb_checkpoints\\skel-analysis-checkpoint.ipynb\n",
      "Found C:\\Users\\Prakrith\\Documents\\Github\\jupyter\\italiano-lab\\mk-skel\\.ipynb_checkpoints\\Skel_Analysis-checkpoint.ipynb\n",
      "Found C:\\Users\\Prakrith\\Documents\\Github\\jupyter\\italiano-lab\\mk-skel\\results\\EdgesResults.csv\n",
      "Found C:\\Users\\Prakrith\\Documents\\Github\\jupyter\\italiano-lab\\mk-skel\\results\\results_proplatelets.csv\n",
      "Found C:\\Users\\Prakrith\\Documents\\Github\\jupyter\\italiano-lab\\mk-skel\\results\\results_prot_seed.csv\n",
      "Found C:\\Users\\Prakrith\\Documents\\Github\\jupyter\\italiano-lab\\mk-skel\\results\\VerticesResults.csv\n",
      "Found C:\\Users\\Prakrith\\Documents\\Github\\jupyter\\italiano-lab\\mk-skel\\results\\branchpoints\\180417_ARW_A6_1-0003_branchpoints.png\n",
      "Found C:\\Users\\Prakrith\\Documents\\Github\\jupyter\\italiano-lab\\mk-skel\\results\\branchpoints\\180417_ARW_C6_1-0018_branchpoints.png\n",
      "Found C:\\Users\\Prakrith\\Documents\\Github\\jupyter\\italiano-lab\\mk-skel\\results\\pplt_labels\\180417_ARW_A6_1-0003.tiff\n",
      "Found C:\\Users\\Prakrith\\Documents\\Github\\jupyter\\italiano-lab\\mk-skel\\results\\pplt_labels\\180417_ARW_C6_1-0018.tiff\n",
      "Found C:\\Users\\Prakrith\\Documents\\Github\\jupyter\\italiano-lab\\mk-skel\\results\\single_images\\180417_ARW_A6_1-0003.tif\n",
      "Found C:\\Users\\Prakrith\\Documents\\Github\\jupyter\\italiano-lab\\mk-skel\\results\\single_images\\180417_ARW_C6_1-0018.tif\n"
     ]
    }
   ],
   "source": [
    "# Search working dir for folders/files\n",
    "for path, dirs, files in os.walk(os.getcwd()):\n",
    "    for file in files:\n",
    "          print(\"Found %s\" % os.path.join(path, file))"
   ]
  },
  {
   "cell_type": "code",
   "execution_count": 3,
   "metadata": {},
   "outputs": [],
   "source": [
    "def parse_skel(edge, vert, imnum):\n",
    "    # filter for Image 4\n",
    "    edge = edge[edge['ImageNumber'] == imnum]\n",
    "    vert = vert[vert['ImageNumber'] == imnum]\n",
    "    \n",
    "    # concat x & y coordinates into one column\n",
    "    vert['xy'] = vert['x'].astype(str) + ', ' + vert['y'].astype(str)\n",
    "\n",
    "    # create dicts, Node is key, vert columns are values\n",
    "    xydict = dict(zip(vert.Node, vert.xy))\n",
    "    labeldict = dict(zip(vert.Node, vert.Labels))\n",
    "    kinddict = dict(zip(vert.Node, vert.Kind))\n",
    "    \n",
    "    # use xy coord dict, and add values to edge for Node_1 & Node_2\n",
    "    edge['Node_1_xy'] = edge['Node_1'].map(xydict)\n",
    "    edge['Node_2_xy'] = edge['Node_2'].map(xydict)\n",
    "    edge['Node_1_Label'] = edge['Node_1'].map(labeldict)\n",
    "    edge['Node_2_Label'] = edge['Node_2'].map(labeldict)\n",
    "    edge['Node_1_Kind'] = edge['Node_1'].map(kinddict)\n",
    "    edge['Node_2_Kind'] = edge['Node_2'].map(kinddict)\n",
    "    \n",
    "    edge.to_csv('UpdatedEdges.csv')"
   ]
  },
  {
   "cell_type": "code",
   "execution_count": 4,
   "metadata": {},
   "outputs": [],
   "source": [
    "# Filter by Well_Site, and place in dfs\n",
    "def split_wells(df):\n",
    "    d = []\n",
    "    wells = df.Metadata_Well_Site.unique()\n",
    "    for well in wells:\n",
    "        well_df = df[df['Metadata_Well_Site'].str.contains(well)]\n",
    "        d.append(well_df)\n",
    "    return d"
   ]
  },
  {
   "cell_type": "markdown",
   "metadata": {},
   "source": [
    "### Branch Lengths\n",
    "- Aggregate Average & Total lengths for DMSO/Taxol"
   ]
  },
  {
   "cell_type": "code",
   "execution_count": 5,
   "metadata": {},
   "outputs": [],
   "source": [
    "epath = os.getcwd() + os.sep + \"results\" + os.sep + \"EdgesResults.csv\"\n",
    "vpath = os.getcwd() + os.sep + \"results\" + os.sep + \"VerticesResults.csv\""
   ]
  },
  {
   "cell_type": "code",
   "execution_count": 6,
   "metadata": {},
   "outputs": [],
   "source": [
    "edge = pd.read_csv(epath)\n",
    "vert = pd.read_csv(vpath)"
   ]
  },
  {
   "cell_type": "code",
   "execution_count": 7,
   "metadata": {},
   "outputs": [
    {
     "name": "stderr",
     "output_type": "stream",
     "text": [
      "c:\\users\\prakrith\\.virtualenvs\\jupyter-tcjg40cp\\lib\\site-packages\\pandas\\core\\frame.py:3607: SettingWithCopyWarning: \n",
      "A value is trying to be set on a copy of a slice from a DataFrame.\n",
      "Try using .loc[row_indexer,col_indexer] = value instead\n",
      "\n",
      "See the caveats in the documentation: https://pandas.pydata.org/pandas-docs/stable/user_guide/indexing.html#returning-a-view-versus-a-copy\n",
      "  self._set_item(key, value)\n"
     ]
    }
   ],
   "source": [
    "# DMSO\n",
    "parse_skel(edge, vert, 4)"
   ]
  },
  {
   "cell_type": "code",
   "execution_count": 8,
   "metadata": {},
   "outputs": [],
   "source": [
    "# Taxol\n",
    "parse_skel(edge, vert, 41)"
   ]
  },
  {
   "cell_type": "markdown",
   "metadata": {},
   "source": [
    "### Area Results"
   ]
  },
  {
   "cell_type": "code",
   "execution_count": 9,
   "metadata": {},
   "outputs": [],
   "source": [
    "path = os.getcwd() + os.sep + \"results\" + os.sep + \"results_proplatelets.csv\""
   ]
  },
  {
   "cell_type": "code",
   "execution_count": 10,
   "metadata": {},
   "outputs": [],
   "source": [
    "df = pd.read_csv(path)\n",
    "# Remove AreaShape_ from column headers\n",
    "df.columns = df.columns.str.replace('AreaShape_', '')"
   ]
  },
  {
   "cell_type": "code",
   "execution_count": 11,
   "metadata": {},
   "outputs": [],
   "source": [
    "dmso = df[df[\"ImageNumber\"] == 4]\n",
    "taxol = df[df[\"ImageNumber\"] == 107]"
   ]
  },
  {
   "cell_type": "code",
   "execution_count": 12,
   "metadata": {},
   "outputs": [],
   "source": [
    "dmso.to_csv('dmso-data.csv')\n",
    "taxol.to_csv('taxol-data.csv')"
   ]
  }
 ],
 "metadata": {
  "kernelspec": {
   "display_name": "Python 3 (ipykernel)",
   "language": "python",
   "name": "python3"
  },
  "language_info": {
   "codemirror_mode": {
    "name": "ipython",
    "version": 3
   },
   "file_extension": ".py",
   "mimetype": "text/x-python",
   "name": "python",
   "nbconvert_exporter": "python",
   "pygments_lexer": "ipython3",
   "version": "3.9.5"
  }
 },
 "nbformat": 4,
 "nbformat_minor": 4
}
