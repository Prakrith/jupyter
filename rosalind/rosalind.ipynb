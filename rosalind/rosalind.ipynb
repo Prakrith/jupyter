{
 "cells": [
  {
   "cell_type": "code",
   "execution_count": 1,
   "id": "a27ffa30-ec6f-4aa2-8094-2f6b4ea5df31",
   "metadata": {},
   "outputs": [],
   "source": [
    "import os\n",
    "import sys"
   ]
  },
  {
   "cell_type": "code",
   "execution_count": 2,
   "id": "4d05b35d-8e11-45c4-af89-241d533ec757",
   "metadata": {},
   "outputs": [],
   "source": [
    "def open_text(file):\n",
    "    f = open('./' + file + '.txt', \"r\")\n",
    "    return f.read()"
   ]
  },
  {
   "cell_type": "markdown",
   "id": "2f6260b8-675c-4b29-9e90-cf81ba5c0096",
   "metadata": {},
   "source": [
    "## Counting DNA Nucleotides\n",
    "\n",
    "- Given: A DNA string s of length at most 1000 nt.\n",
    "\n",
    "- Return: Four integers (separated by spaces) counting the respective number of times that the symbols 'A', 'C', 'G', and 'T' occur in s."
   ]
  },
  {
   "cell_type": "code",
   "execution_count": 3,
   "id": "b0320350-149d-468b-9683-00e848feb7d2",
   "metadata": {},
   "outputs": [],
   "source": [
    "string = open_text('rosalind_dna')"
   ]
  },
  {
   "cell_type": "code",
   "execution_count": 4,
   "id": "922cde0d-c2aa-44a1-abff-e691349d82a5",
   "metadata": {},
   "outputs": [],
   "source": [
    "arr = [0,0,0,0]\n",
    "for char in string:\n",
    "    if char == \"A\":\n",
    "        arr[0] +=1\n",
    "    elif char == \"C\":\n",
    "        arr[1] +=1\n",
    "    elif char == \"G\":\n",
    "        arr[2] +=1\n",
    "    elif char == \"T\":\n",
    "        arr[3] +=1"
   ]
  },
  {
   "cell_type": "code",
   "execution_count": 5,
   "id": "12ac7ef3-bb3c-4224-921d-5f60b10881d7",
   "metadata": {},
   "outputs": [
    {
     "data": {
      "text/plain": [
       "[221, 209, 253, 231]"
      ]
     },
     "execution_count": 5,
     "metadata": {},
     "output_type": "execute_result"
    }
   ],
   "source": [
    "arr"
   ]
  },
  {
   "cell_type": "code",
   "execution_count": 6,
   "id": "6956a13b-fb53-4c30-8364-e96d2d0fccc6",
   "metadata": {},
   "outputs": [
    {
     "data": {
      "text/plain": [
       "(221, 253, 209, 231)"
      ]
     },
     "execution_count": 6,
     "metadata": {},
     "output_type": "execute_result"
    }
   ],
   "source": [
    "# Best Soln.\n",
    "def qt(s):\n",
    "    return s.count(\"A\"), s.count(\"G\"), s.count(\"C\"), s.count(\"T\")\n",
    "qt(string)"
   ]
  },
  {
   "cell_type": "markdown",
   "id": "721e10d7-c33f-4f91-9311-fd349d68472c",
   "metadata": {},
   "source": [
    "## Transcribing DNA into RNA\n",
    "\n",
    "Given a DNA string t corresponding to a coding strand, its transcribed RNA string u is formed by replacing all occurrences of 'T' in t with 'U' in u.\n",
    "\n",
    "- Given: A DNA string t having length at most 1000 nt.\n",
    "\n",
    "- Return: The transcribed RNA string of t."
   ]
  },
  {
   "cell_type": "code",
   "execution_count": 7,
   "id": "2d412ff9-717b-4788-92b6-77ba1e3bac0e",
   "metadata": {},
   "outputs": [],
   "source": [
    "string = open_text('rosalind_rna')"
   ]
  },
  {
   "cell_type": "code",
   "execution_count": 8,
   "id": "5c1f4c57-1808-48a8-8118-a294cab4077c",
   "metadata": {},
   "outputs": [
    {
     "data": {
      "text/plain": [
       "'GGAUUUCCUCUAUUAAUGCGGUCCGAGUUAGAGUUUUAUGAGUCCCAUCGUUUUGCCAAGACUGUAAACCAAGAACCUCAGAGUAAGUUACAUCGCCUCCUAUAAGCAUGAGGCAGCACAUCUAGGGAAUUCACGCAACUGCGUCUAUACUCAACUCGCCCGAGUACAGCCUAGUGGCCCAACUAAAACAAGAACGUUGUUAGGGAAGCGUAACUAGGUGGUACUAUGGUGCCAGUGUAGUCUUGGGUCCUUGAUCCAGAAUGGUAUACACCCCUGUCCCAUUUCUAAAUAGGAAGUUCCUUUACGCGGUAUCAAAGAUGUUUAAUUGGAAAGUAGCACUACUGCCGUAUGACGCGGCGCACGGUAAUGGGAAUUCAGUAAGAUCAACAUCAUUUCUAUGAGUCGUUGAAUUUUAAAUAUACAUACCAGGUACGCCCGGUGAUUCCAAAGCGGUGGAACAGAGUGGUGUAGGGAUCUAACCUUGCUGUACCCCUCGGCGUCCAGACGGUCGAGAAAGUCAGCAGGGUGACCAUAGAUAAUUACAAAGCGAUCAGGGGUCCGCCUAUCAACGUAUCGCGUAUUCCGUUGCAGCAAGGAGCACUGCGAAUCCUGAAGAACGCCGGUAAUGAGAAUUUGGUUCCCCGACCGGGGCGUAAAUCUGAUCCGCCCUCUAUGCGAGAUAGGGAAAACGACCUGCCCAAUCUACCUUUGAUAGUGACCGCAAGCACGUUGUUUAAGACAGGGCUGGUAUGACCGUUGAUCCCGAUAAGAACCGAACCCCUUGGAGUGCGAAUAAGGCCCAACCCCAUUGUUUCUCGAUGCUGGCCACUGUUGUCGGGAUGGCUGAGCCAAAGAGAUGGUAAGGAGGAUUCGGAGGUCCACAGGUUUAUGUACGUUUUUCCCAUAAGGGAAAAACAAGCACGUCUCUCAGGUUGGGCGGUGAUACUCGGACGAAGGCAGU\\n'"
      ]
     },
     "execution_count": 8,
     "metadata": {},
     "output_type": "execute_result"
    }
   ],
   "source": [
    "string.replace('T', 'U')"
   ]
  },
  {
   "cell_type": "markdown",
   "id": "30684c22-ec30-4fc2-926c-fed3bc01467d",
   "metadata": {},
   "source": [
    "## Complementing a Strand of DNA\n",
    "\n",
    "In DNA strings, symbols 'A' and 'T' are complements of each other, as are 'C' and 'G'.\n",
    "\n",
    "The reverse complement of a DNA string s is the string sc formed by reversing the symbols of s, then taking the complement of each symbol (e.g., the reverse complement of \"GTCA\" is \"TGAC\").\n",
    "\n",
    "- Given: A DNA string s of length at most 1000 bp.\n",
    "\n",
    "- Return: The reverse complement sc of s."
   ]
  },
  {
   "cell_type": "code",
   "execution_count": 9,
   "id": "a43f241e-a9a5-400c-81c3-d5dd7e98931f",
   "metadata": {},
   "outputs": [],
   "source": [
    "string = open_text('rosalind_revc')"
   ]
  },
  {
   "cell_type": "code",
   "execution_count": 10,
   "id": "5d73b48c-327d-4a1e-8455-8d98012400ff",
   "metadata": {},
   "outputs": [
    {
     "data": {
      "text/plain": [
       "'\\nTTTTTGGTGACCGCCTACAGAGGTTGCTCGCTCATGTCTGAATAAGCCATACGATGCGAACGTATTATCATTAGTATCCGGGACGCTACACGAAGACACGATCTACTATAACGCGCGCGGGGGTAGAACGCGCCACCCTCGATCAGTATAGCCTATGTCTAACCCCTAAATATCACCATCCGCTCAGATCTCCTCAGCATATGCTATTCTGGCACAAGGGGGACGTCAACAACATTACATGGGCTCCTCTCACGGGCCGACTGAAGAGATGCCAAATTGGATAACTTCAGGCTATGGTGGTCCTCTCACTTTCACGATGCATGAAATACTCACATAGTTTTATGTTGATGAGCTGATCAACGACGTAGAGGTTATATCTTAAAATGGTTCTGTAGATAACTACCTCACTCGATCTTAAGAGGCAAATTGAATTGGAGACCAGTTTGTTGGTATATCACTCCTCACCTTACGCATCAGGGCGGCAGAACACGCATGCATAATTCCTAGAGCTAATCGGGTAAAGGCGTTGTACACGTGCGATATGAATTGGTCTCCGGACTTTCCTGCGTAATCTTCCTAGACACCTTGATTTTCAACGCTTTTGAAATGCCACGGTCACGTACGGTTTAAACGGTCACACCCGGGAAAAAGAACCGGCATGGCGACAGTTTTACCCAACTCCTTGAATTCCCATGTTAATACAGGTAGTGTGCTACTTGGTTCCTGCCGACTAGCTCCCGGGATCTTAGGGAAAATAGCTCAGCAGGCCAGTCGGAGGGATCCGAGCATTTATATTGTTTTGGGATTTCG'"
      ]
     },
     "execution_count": 10,
     "metadata": {},
     "output_type": "execute_result"
    }
   ],
   "source": [
    "string.replace('T', 'U').replace('A', 'T').replace('U','A').replace('G', 'U').replace('C','G').replace('U', 'C')[::-1]"
   ]
  },
  {
   "cell_type": "code",
   "execution_count": 11,
   "id": "172e0bfc-638c-4837-87d6-19101d1b7f92",
   "metadata": {},
   "outputs": [
    {
     "data": {
      "text/plain": [
       "'\\nTTTTTGGTGACCGCCTACAGAGGTTGCTCGCTCATGTCTGAATAAGCCATACGATGCGAACGTATTATCATTAGTATCCGGGACGCTACACGAAGACACGATCTACTATAACGCGCGCGGGGGTAGAACGCGCCACCCTCGATCAGTATAGCCTATGTCTAACCCCTAAATATCACCATCCGCTCAGATCTCCTCAGCATATGCTATTCTGGCACAAGGGGGACGTCAACAACATTACATGGGCTCCTCTCACGGGCCGACTGAAGAGATGCCAAATTGGATAACTTCAGGCTATGGTGGTCCTCTCACTTTCACGATGCATGAAATACTCACATAGTTTTATGTTGATGAGCTGATCAACGACGTAGAGGTTATATCTTAAAATGGTTCTGTAGATAACTACCTCACTCGATCTTAAGAGGCAAATTGAATTGGAGACCAGTTTGTTGGTATATCACTCCTCACCTTACGCATCAGGGCGGCAGAACACGCATGCATAATTCCTAGAGCTAATCGGGTAAAGGCGTTGTACACGTGCGATATGAATTGGTCTCCGGACTTTCCTGCGTAATCTTCCTAGACACCTTGATTTTCAACGCTTTTGAAATGCCACGGTCACGTACGGTTTAAACGGTCACACCCGGGAAAAAGAACCGGCATGGCGACAGTTTTACCCAACTCCTTGAATTCCCATGTTAATACAGGTAGTGTGCTACTTGGTTCCTGCCGACTAGCTCCCGGGATCTTAGGGAAAATAGCTCAGCAGGCCAGTCGGAGGGATCCGAGCATTTATATTGTTTTGGGATTTCG'"
      ]
     },
     "execution_count": 11,
     "metadata": {},
     "output_type": "execute_result"
    }
   ],
   "source": [
    "# Best Soln.\n",
    "string.replace('A','t').replace('T','a').replace('C','g').replace('G','c').upper()[::-1]"
   ]
  },
  {
   "cell_type": "markdown",
   "id": "87e1f7cc-129a-46ab-af48-6cbdd23ad48b",
   "metadata": {},
   "source": [
    "## Rabbits and Recurrence Relations\n",
    "\n",
    "A sequence is an ordered collection of objects (usually numbers), which are allowed to repeat. Sequences can be finite or infinite. Two examples are the finite sequence (π,−2–√,0,π) and the infinite sequence of odd numbers (1,3,5,7,9,…). We use the notation an to represent the n-th term of a sequence.\n",
    "\n",
    "A recurrence relation is a way of defining the terms of a sequence with respect to the values of previous terms. In the case of Fibonacci's rabbits from the introduction, any given month will contain the rabbits that were alive the previous month, plus any new offspring. A key observation is that the number of offspring in any month is equal to the number of rabbits that were alive two months prior. As a result, if Fn represents the number of rabbit pairs alive after the n-th month, then we obtain the Fibonacci sequence having terms Fn that are defined by the recurrence relation Fn=Fn−1+Fn−2 (with F1=F2=1 to initiate the sequence). Although the sequence bears Fibonacci's name, it was known to Indian mathematicians over two millennia ago.\n",
    "\n",
    "When finding the n-th term of a sequence defined by a recurrence relation, we can simply use the recurrence relation to generate terms for progressively larger values of n. This problem introduces us to the computational technique of dynamic programming, which successively builds up solutions by using the answers to smaller cases.\n",
    "\n",
    "- Given: Positive integers n≤40 and k≤5.\n",
    "\n",
    "- Return: The total number of rabbit pairs that will be present after n months, if we begin with 1 pair and in each generation, every pair of reproduction-age rabbits produces a litter of k rabbit pairs (instead of only 1 pair).\n",
    "\n",
    "n = months; k = litter size/pair"
   ]
  },
  {
   "cell_type": "markdown",
   "id": "bfa17a64-5708-42d8-8d7a-3860cc7daeb7",
   "metadata": {},
   "source": [
    "### Dynamic Programming\n",
    "- Recursive [Top-Down]\n",
    "- Iterative [Bottom-Up]"
   ]
  },
  {
   "cell_type": "code",
   "execution_count": 12,
   "id": "f87a0444-ed54-4dcf-9e20-662aee440448",
   "metadata": {},
   "outputs": [],
   "source": [
    "string = open_text('rosalind_fib')"
   ]
  },
  {
   "cell_type": "code",
   "execution_count": 13,
   "id": "01c690cb-0d96-4335-a790-f2becd4f17af",
   "metadata": {},
   "outputs": [
    {
     "data": {
      "text/plain": [
       "170361678269"
      ]
     },
     "execution_count": 13,
     "metadata": {},
     "output_type": "execute_result"
    }
   ],
   "source": [
    "def memoize(f):\n",
    "    memo = {}\n",
    "    def helper(x):\n",
    "        if x not in memo:            \n",
    "            memo[x] = f(x)\n",
    "        return memo[x]\n",
    "    return helper\n",
    "\n",
    "k = int(string.split()[1]) # litter size\n",
    "@memoize\n",
    "def rab(n):\n",
    "    if n <= 1:\n",
    "        return n\n",
    "    else:\n",
    "        return rab(n-1) + rab(n-2) * k\n",
    "    \n",
    "rab(int(string.split()[0]))"
   ]
  },
  {
   "cell_type": "markdown",
   "id": "8c957192-8a6f-41d3-bac3-c168ce2f0cb8",
   "metadata": {},
   "source": [
    "### Computing GC Content \n",
    "The GC-content of a DNA string is given by the percentage of symbols in the string that are 'C' or 'G'. For example, the GC-content of \"AGCTATAG\" is 37.5%. Note that the reverse complement of any DNA string has the same GC-content.\n",
    "\n",
    "DNA strings must be labeled when they are consolidated into a database. A commonly used method of string labeling is called FASTA format. In this format, the string is introduced by a line that begins with '>', followed by some labeling information. Subsequent lines contain the string itself; the first line to begin with '>' indicates the label of the next string.\n",
    "\n",
    "In Rosalind's implementation, a string in FASTA format will be labeled by the ID \"Rosalind_xxxx\", where \"xxxx\" denotes a four-digit code between 0000 and 9999.\n",
    "\n",
    "- Given: At most 10 DNA strings in FASTA format (of length at most 1 kbp each).\n",
    "\n",
    "- Return: The ID of the string having the highest GC-content, followed by the GC-content of that string. Rosalind allows for a default error of 0.001 in all decimal answers unless otherwise stated; please see the note on absolute error below."
   ]
  },
  {
   "cell_type": "code",
   "execution_count": null,
   "id": "c663ec96-1ded-4988-aca8-a63ba6f2ee74",
   "metadata": {},
   "outputs": [],
   "source": []
  }
 ],
 "metadata": {
  "kernelspec": {
   "display_name": "Python 3 (ipykernel)",
   "language": "python",
   "name": "python3"
  },
  "language_info": {
   "codemirror_mode": {
    "name": "ipython",
    "version": 3
   },
   "file_extension": ".py",
   "mimetype": "text/x-python",
   "name": "python",
   "nbconvert_exporter": "python",
   "pygments_lexer": "ipython3",
   "version": "3.9.5"
  }
 },
 "nbformat": 4,
 "nbformat_minor": 5
}
